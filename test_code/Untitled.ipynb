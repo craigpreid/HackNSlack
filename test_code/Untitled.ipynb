{
 "cells": [
  {
   "cell_type": "code",
   "execution_count": 5,
   "metadata": {},
   "outputs": [],
   "source": [
    "# Dependencies and Setup\n",
    "import matplotlib.pyplot as plt\n",
    "import pandas as pd\n",
    "import numpy as np\n",
    "import requests\n",
    "import time\n",
    "import urllib\n",
    "import json\n",
    "import sys\n",
    "import pprint\n",
    "import os\n",
    "\n",
    "# We are using 2 api Keys for redundancy and because\n",
    "# there is a limit to the number of calls\n",
    "api_key = \"4tsbjxvbrwnpcjdsh277csqu\"\n",
    "api_alt = \"anrtcd5dheh9758z5wgdy677\"\n",
    "\n",
    "# Base url for all API look ups\n",
    "base_url = \"http://api.walmartlabs.com/v1/\" \n",
    "\n",
    "# Variables to specify the API\n",
    "search = \"search?\"\n",
    "paginated_products = \"paginated/items?\"\n",
    "\n",
    "# Base url for search\n",
    "search_url = base_url + search\n",
    "paginated_url = base_url + paginated_products\n"
   ]
  },
  {
   "cell_type": "code",
   "execution_count": 6,
   "metadata": {},
   "outputs": [
    {
     "name": "stdout",
     "output_type": "stream",
     "text": [
      "http://api.walmartlabs.com/v1/search?apiKey=anrtcd5dheh9758z5wgdy677&format=json&categoryId=3944&query=laptop&numItems=25&facet=on&facet.range=price:[0%20TO%20200]\n"
     ]
    }
   ],
   "source": [
    "# Load search criteria for Walmart Search API.\n",
    "# reference URL: https://developer.walmartlabs.com/docs/read/Search_API\n",
    "\n",
    "format = \"json\"\n",
    "categoryId = \"3944\"\n",
    "query = \"laptop\"\n",
    "numItems = 25 # max 25. 10 is default\n",
    "start = 1\n",
    "sort = \"price\"\n",
    "order = \"desc\"\n",
    "facet = \"on\" # boolean\n",
    "min = str(0) # lower end of range for search within price range\n",
    "max = str(200) # higher end of range price for search with price range\n",
    "facet_range = (f\"price:[{min}%20TO%20{max}]\") # note the format [num1:num2] does not work. Use %20TO%20 for \":\"\n",
    "\n",
    "\n",
    "\n",
    "# NOTE: we are using 2 methods to create urls. Because the params argument does not format the output\n",
    "# in the manner needed to get the API to work.  This is used only for price range lookups\n",
    "\n",
    "# manual url. Used for price range lookup only\n",
    "manual_url = (f\"{search_url}apiKey={api_alt}&format={format}&categoryId={categoryId}&query={query}&numItems={numItems}&facet={facet}&facet.range={facet_range}\")\n",
    "\n",
    "print(manual_url)\n",
    "\n",
    "# API parameters for other lookups\n",
    "params = {\n",
    "    \"apiKey\": api_alt,\n",
    "    #\"start\": start, # note keep turned off.  We can't get this to work yet\n",
    "    \"format\": \"json\", # json|xml\n",
    "    \"categoryId\": categoryId,\n",
    "    \"query\": query,\n",
    "    \"numItems\": numItems,\n",
    "    #\"sort\": sort, #allowed sort types are [relevance, price, title, bestseller, customerRating, new]\n",
    "    #\"order\": order,  #allowed values are [asc, desc]\n",
    "    #\"facet\":facet, # note keep turned off.  We can't get this to work yet\n",
    "    #\"facet.range\":facet_range    # note keep turned off.  We can't get this to work yet\n",
    "}"
   ]
  },
  {
   "cell_type": "code",
   "execution_count": 44,
   "metadata": {},
   "outputs": [
    {
     "name": "stdout",
     "output_type": "stream",
     "text": [
      "http://api.walmartlabs.com/v1/search?apiKey=anrtcd5dheh9758z5wgdy677&format=json&categoryId=3944&query=laptop&numItems=25&facet=on&facet.range=price:[850%20TO%20900]\n"
     ]
    }
   ],
   "source": [
    "lowRange = 850\n",
    "highRange = 900\n",
    "\n",
    "facet_range = (f\"price:[{lowRange}%20TO%20{highRange}]\")\n",
    "price_url = (f\"{search_url}apiKey={api_alt}&format={format}&categoryId={categoryId}&query={query}&numItems={numItems}&facet={facet}&facet.range={facet_range}\")\n",
    "walmart_data2 = requests.get(price_url)\n",
    "walmart_data2 = walmart_data2.json()\n",
    "print (price_url)\n",
    "     \n",
    "a = []\n",
    "if not os.path.isfile('Walmart_datasets/walmart_laptops_test.json'):\n",
    "    a.append(walmart_data2['items'])\n",
    "    with open('Walmart_datasets/walmart_laptops_test.json', mode='w') as f:\n",
    "        f.write(json.dumps(walmart_data2['items'], indent=4))\n",
    "else:\n",
    "    with open('Walmart_datasets/walmart_laptops_test.json') as feedsjson:\n",
    "        feeds = json.load(feedsjson)\n",
    "\n",
    "    feeds.append(walmart_data2['items'])\n",
    "    with open('Walmart_datasets/walmart_laptops_test.json', mode='w') as f:\n",
    "        f.write(json.dumps(feeds, indent=4))\n"
   ]
  },
  {
   "cell_type": "code",
   "execution_count": 46,
   "metadata": {},
   "outputs": [
    {
     "name": "stdout",
     "output_type": "stream",
     "text": [
      "26\n",
      "475791924\n",
      "671517329\n",
      "439277849\n",
      "630174927\n",
      "560152122\n",
      "54748280\n",
      "54735609\n",
      "968609768\n",
      "809339105\n",
      "49455388\n",
      "697607044\n",
      "653418400\n",
      "189541003\n",
      "56147310\n",
      "51718057\n",
      "672118546\n",
      "51397791\n",
      "192873858\n",
      "745431610\n",
      "328387140\n",
      "630252507\n",
      "127740435\n",
      "706741095\n",
      "691568446\n",
      "445154522\n"
     ]
    },
    {
     "ename": "TypeError",
     "evalue": "list indices must be integers or slices, not str",
     "output_type": "error",
     "traceback": [
      "\u001b[1;31m---------------------------------------------------------------------------\u001b[0m",
      "\u001b[1;31mTypeError\u001b[0m                                 Traceback (most recent call last)",
      "\u001b[1;32m<ipython-input-46-8d8dd8a4f4c9>\u001b[0m in \u001b[0;36m<module>\u001b[1;34m()\u001b[0m\n\u001b[0;32m      9\u001b[0m \u001b[1;33m\u001b[0m\u001b[0m\n\u001b[0;32m     10\u001b[0m     \u001b[1;32mfor\u001b[0m \u001b[0mi\u001b[0m \u001b[1;32min\u001b[0m \u001b[0mrange\u001b[0m\u001b[1;33m(\u001b[0m\u001b[0mlen\u001b[0m\u001b[1;33m(\u001b[0m\u001b[0mjson_data\u001b[0m\u001b[1;33m)\u001b[0m\u001b[1;33m)\u001b[0m\u001b[1;33m:\u001b[0m\u001b[1;33m\u001b[0m\u001b[0m\n\u001b[1;32m---> 11\u001b[1;33m         \u001b[0mitemId\u001b[0m \u001b[1;33m=\u001b[0m \u001b[0mjson_data\u001b[0m\u001b[1;33m[\u001b[0m\u001b[0mi\u001b[0m\u001b[1;33m]\u001b[0m\u001b[1;33m[\u001b[0m\u001b[1;34m'itemId'\u001b[0m\u001b[1;33m]\u001b[0m\u001b[1;33m\u001b[0m\u001b[0m\n\u001b[0m\u001b[0;32m     12\u001b[0m         \u001b[0mprint\u001b[0m\u001b[1;33m(\u001b[0m\u001b[0mitemId\u001b[0m\u001b[1;33m)\u001b[0m\u001b[1;33m\u001b[0m\u001b[0m\n",
      "\u001b[1;31mTypeError\u001b[0m: list indices must be integers or slices, not str"
     ]
    }
   ],
   "source": [
    "from pprint import pprint\n",
    "import os\n",
    "filepath = os.path.join('Walmart_datasets/walmart_laptops_test_appended.json')\n",
    "\n",
    "\n",
    "with open(filepath) as jsonfile:\n",
    "    json_data = json.load(jsonfile)\n",
    "    print (len(json_data))\n",
    "    \n",
    "    for i in range(len(json_data)):\n",
    "        itemId = json_data['items'][i]['itemId']\n",
    "        print(itemId)"
   ]
  },
  {
   "cell_type": "code",
   "execution_count": 21,
   "metadata": {},
   "outputs": [
    {
     "name": "stdout",
     "output_type": "stream",
     "text": [
      "87\n"
     ]
    }
   ],
   "source": [
    "    for i in range(0,len(json_data)):\n",
    "        itemId = (json.dumps(json_data[i]['itemId'], sort_keys=True, indent=4))\n",
    "        print (itemId)\n",
    "\n",
    "try:\n",
    "            upc_list.append(json_data[i]['upc'])\n",
    "            itemId_list.append(json_data[i]['itemId'])\n",
    "            name_list.append(json_data[i]['name'])\n",
    "            categoryPath_list.append(json_data[i]['categoryPath'])\n",
    "            salePrice_list.append(json_data[i]['salePrice'])\n",
    "            customerRating_list.append(json_data[i]['customerRating'])\n",
    "            numReviews_list.append(json_data[i]['numReviews'])\n",
    "            stock_list.append(json_data[i]['stock'])\n",
    "            offerType_list.append(json_data[i]['offerType'])\n",
    "            availableOnline_list.append(json_data[i]['availableOnline'])\n",
    "        except:\n",
    "            print (f\"Skipped line {i}\")"
   ]
  },
  {
   "cell_type": "code",
   "execution_count": null,
   "metadata": {},
   "outputs": [],
   "source": []
  }
 ],
 "metadata": {
  "kernelspec": {
   "display_name": "Python 3",
   "language": "python",
   "name": "python3"
  },
  "language_info": {
   "codemirror_mode": {
    "name": "ipython",
    "version": 3
   },
   "file_extension": ".py",
   "mimetype": "text/x-python",
   "name": "python",
   "nbconvert_exporter": "python",
   "pygments_lexer": "ipython3",
   "version": "3.6.5"
  }
 },
 "nbformat": 4,
 "nbformat_minor": 2
}
