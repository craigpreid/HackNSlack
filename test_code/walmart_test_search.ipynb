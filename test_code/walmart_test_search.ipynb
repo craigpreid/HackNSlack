{
 "cells": [
  {
   "cell_type": "code",
   "execution_count": 4,
   "metadata": {},
   "outputs": [],
   "source": [
    "import requests\n",
    "import json\n",
    "import csv\n",
    "import pandas as pd\n",
    "import time\n",
    "\n",
    "# We are using 2 api Keys for redundancy and because\n",
    "# there is a limit to the number of calls\n",
    "api_key = \"4tsbjxvbrwnpcjdsh277csqu\"\n",
    "api_alt = \"anrtcd5dheh9758z5wgdy677\"\n",
    "\n",
    "# Base url for all API look ups\n",
    "base_url = \"http://api.walmartlabs.com/v1/\" \n",
    "\n",
    "# Variables to specify the API\n",
    "search = \"search?\"\n",
    "paginated_products = \"paginated/items?\"\n",
    "\n",
    "# Base url for search\n",
    "search_url = base_url + search\n",
    "paginated_url = base_url + paginated_products\n"
   ]
  },
  {
   "cell_type": "code",
   "execution_count": 5,
   "metadata": {},
   "outputs": [],
   "source": [
    "# define search variables\n",
    "\n",
    "format = \"json\"\n",
    "categoryId = \"3944\"\n",
    "query = \"laptop\"\n",
    "numItems = 25 # max 25. 10 is default\n",
    "start = 1\n",
    "sort = \"price\"\n",
    "order = \"desc\"\n",
    "facet = \"on\" # boolean\n",
    "min = str(0) # lower end of range for search within price range\n",
    "max = str(200) # higher end of range price for search with price range\n",
    "facet_range = (f\"price:[{min}%20TO%20{max}]\") # note the format [num1:num2] does not work. Use %20TO%20 for \":\"\n"
   ]
  },
  {
   "cell_type": "code",
   "execution_count": 15,
   "metadata": {},
   "outputs": [
    {
     "name": "stdout",
     "output_type": "stream",
     "text": [
      "http://api.walmartlabs.com/v1/search?apiKey=anrtcd5dheh9758z5wgdy677&format=json&categoryId=3944&query=laptop&numItems=25&facet=on&facet.range=price:[600%20TO%20625]\n",
      "http://api.walmartlabs.com/v1/search?apiKey=anrtcd5dheh9758z5wgdy677&format=json&categoryId=3944&query=laptop&numItems=25&facet=on&facet.range=price:[625%20TO%20650]\n",
      "http://api.walmartlabs.com/v1/search?apiKey=anrtcd5dheh9758z5wgdy677&format=json&categoryId=3944&query=laptop&numItems=25&facet=on&facet.range=price:[650%20TO%20675]\n"
     ]
    }
   ],
   "source": [
    "laptop_list = []\n",
    "\n",
    "\n",
    "searchCount = 0\n",
    "itemCount = 0\n",
    "sleepCount = 0\n",
    "low = 600\n",
    "high = 700\n",
    "\n",
    "step0=25\n",
    "\n",
    "array = []\n",
    "\n",
    "for page in range(1, 4):\n",
    "\n",
    "                \n",
    "    high = low + step0\n",
    "            \n",
    "    # create query by price\n",
    "    facet_range = (f\"price:[{low}%20TO%20{high}]\")\n",
    "    price_url = (f\"{search_url}apiKey={api_alt}&format={format}&categoryId={categoryId}&query={query}&numItems={numItems}&facet={facet}&facet.range={facet_range}\")\n",
    "    print(price_url)\n",
    "    items = requests.get(price_url).json()\n",
    "    \n",
    "    #step up in price set low = high\n",
    "    low = high\n",
    "    \n",
    "    # Add a one second interval between queries to stay within API query limits\n",
    "    time.sleep(1)\n",
    "    \n",
    "    # loop through the response and append each article to the list\n",
    "    for item in items[\"items\"]:\n",
    "        array.append(items)\n",
    "        \n"
   ]
  },
  {
   "cell_type": "code",
   "execution_count": 16,
   "metadata": {},
   "outputs": [
    {
     "name": "stderr",
     "output_type": "stream",
     "text": [
      "IOPub data rate exceeded.\n",
      "The notebook server will temporarily stop sending output\n",
      "to the client in order to avoid crashing it.\n",
      "To change this limit, set the config variable\n",
      "`--NotebookApp.iopub_data_rate_limit`.\n",
      "\n",
      "Current values:\n",
      "NotebookApp.iopub_data_rate_limit=1000000.0 (bytes/sec)\n",
      "NotebookApp.rate_limit_window=3.0 (secs)\n",
      "\n"
     ]
    }
   ],
   "source": [
    "print(json.dumps(array, indent=4, sort_keys=True))"
   ]
  },
  {
   "cell_type": "code",
   "execution_count": 18,
   "metadata": {},
   "outputs": [
    {
     "data": {
      "text/plain": [
       "0     [{'itemId': 535554960, 'parentItemId': 5355549...\n",
       "1     [{'itemId': 535554960, 'parentItemId': 5355549...\n",
       "2     [{'itemId': 535554960, 'parentItemId': 5355549...\n",
       "3     [{'itemId': 535554960, 'parentItemId': 5355549...\n",
       "4     [{'itemId': 535554960, 'parentItemId': 5355549...\n",
       "5     [{'itemId': 535554960, 'parentItemId': 5355549...\n",
       "6     [{'itemId': 535554960, 'parentItemId': 5355549...\n",
       "7     [{'itemId': 535554960, 'parentItemId': 5355549...\n",
       "8     [{'itemId': 535554960, 'parentItemId': 5355549...\n",
       "9     [{'itemId': 535554960, 'parentItemId': 5355549...\n",
       "10    [{'itemId': 535554960, 'parentItemId': 5355549...\n",
       "11    [{'itemId': 535554960, 'parentItemId': 5355549...\n",
       "12    [{'itemId': 535554960, 'parentItemId': 5355549...\n",
       "13    [{'itemId': 535554960, 'parentItemId': 5355549...\n",
       "14    [{'itemId': 535554960, 'parentItemId': 5355549...\n",
       "15    [{'itemId': 535554960, 'parentItemId': 5355549...\n",
       "16    [{'itemId': 535554960, 'parentItemId': 5355549...\n",
       "17    [{'itemId': 535554960, 'parentItemId': 5355549...\n",
       "18    [{'itemId': 535554960, 'parentItemId': 5355549...\n",
       "19    [{'itemId': 535554960, 'parentItemId': 5355549...\n",
       "20    [{'itemId': 535554960, 'parentItemId': 5355549...\n",
       "21    [{'itemId': 535554960, 'parentItemId': 5355549...\n",
       "22    [{'itemId': 535554960, 'parentItemId': 5355549...\n",
       "23    [{'itemId': 535554960, 'parentItemId': 5355549...\n",
       "24    [{'itemId': 535554960, 'parentItemId': 5355549...\n",
       "25    [{'itemId': 322570741, 'parentItemId': 3225707...\n",
       "26    [{'itemId': 322570741, 'parentItemId': 3225707...\n",
       "27    [{'itemId': 322570741, 'parentItemId': 3225707...\n",
       "28    [{'itemId': 322570741, 'parentItemId': 3225707...\n",
       "29    [{'itemId': 322570741, 'parentItemId': 3225707...\n",
       "                            ...                        \n",
       "45    [{'itemId': 322570741, 'parentItemId': 3225707...\n",
       "46    [{'itemId': 322570741, 'parentItemId': 3225707...\n",
       "47    [{'itemId': 322570741, 'parentItemId': 3225707...\n",
       "48    [{'itemId': 322570741, 'parentItemId': 3225707...\n",
       "49    [{'itemId': 322570741, 'parentItemId': 3225707...\n",
       "50    [{'itemId': 600450986, 'parentItemId': 6004509...\n",
       "51    [{'itemId': 600450986, 'parentItemId': 6004509...\n",
       "52    [{'itemId': 600450986, 'parentItemId': 6004509...\n",
       "53    [{'itemId': 600450986, 'parentItemId': 6004509...\n",
       "54    [{'itemId': 600450986, 'parentItemId': 6004509...\n",
       "55    [{'itemId': 600450986, 'parentItemId': 6004509...\n",
       "56    [{'itemId': 600450986, 'parentItemId': 6004509...\n",
       "57    [{'itemId': 600450986, 'parentItemId': 6004509...\n",
       "58    [{'itemId': 600450986, 'parentItemId': 6004509...\n",
       "59    [{'itemId': 600450986, 'parentItemId': 6004509...\n",
       "60    [{'itemId': 600450986, 'parentItemId': 6004509...\n",
       "61    [{'itemId': 600450986, 'parentItemId': 6004509...\n",
       "62    [{'itemId': 600450986, 'parentItemId': 6004509...\n",
       "63    [{'itemId': 600450986, 'parentItemId': 6004509...\n",
       "64    [{'itemId': 600450986, 'parentItemId': 6004509...\n",
       "65    [{'itemId': 600450986, 'parentItemId': 6004509...\n",
       "66    [{'itemId': 600450986, 'parentItemId': 6004509...\n",
       "67    [{'itemId': 600450986, 'parentItemId': 6004509...\n",
       "68    [{'itemId': 600450986, 'parentItemId': 6004509...\n",
       "69    [{'itemId': 600450986, 'parentItemId': 6004509...\n",
       "70    [{'itemId': 600450986, 'parentItemId': 6004509...\n",
       "71    [{'itemId': 600450986, 'parentItemId': 6004509...\n",
       "72    [{'itemId': 600450986, 'parentItemId': 6004509...\n",
       "73    [{'itemId': 600450986, 'parentItemId': 6004509...\n",
       "74    [{'itemId': 600450986, 'parentItemId': 6004509...\n",
       "Name: items, Length: 75, dtype: object"
      ]
     },
     "execution_count": 18,
     "metadata": {},
     "output_type": "execute_result"
    }
   ],
   "source": [
    "laptopbestbuy_df = pd.DataFrame(array)\n",
    "laptopbestbuy_df['items']"
   ]
  },
  {
   "cell_type": "code",
   "execution_count": null,
   "metadata": {},
   "outputs": [],
   "source": []
  }
 ],
 "metadata": {
  "kernelspec": {
   "display_name": "Python 3",
   "language": "python",
   "name": "python3"
  },
  "language_info": {
   "codemirror_mode": {
    "name": "ipython",
    "version": 3
   },
   "file_extension": ".py",
   "mimetype": "text/x-python",
   "name": "python",
   "nbconvert_exporter": "python",
   "pygments_lexer": "ipython3",
   "version": "3.6.5"
  }
 },
 "nbformat": 4,
 "nbformat_minor": 2
}
