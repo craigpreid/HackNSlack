{
 "cells": [
  {
   "cell_type": "markdown",
   "metadata": {},
   "source": [
    "# Walmart API overview\n",
    "##### Search API used for look ups. We will use this first\n",
    "##### Taxonomy API used for classifications.  We want to find a way to count classifications"
   ]
  },
  {
   "cell_type": "code",
   "execution_count": 1,
   "metadata": {},
   "outputs": [],
   "source": [
    "# Dependencies and Setup\n",
    "import matplotlib.pyplot as plt\n",
    "import pandas as pd\n",
    "import numpy as np\n",
    "import requests\n",
    "import time\n",
    "import urllib\n",
    "import json\n",
    "import sys\n",
    "import pprint\n",
    "\n",
    "# We are using 2 api Keys for redundancy and because\n",
    "# there is a limit to the number of calls\n",
    "api_key = \"4tsbjxvbrwnpcjdsh277csqu\"\n",
    "api_alt = \"anrtcd5dheh9758z5wgdy677\"\n",
    "\n",
    "# Base url for all API look ups\n",
    "base_url = \"http://api.walmartlabs.com/v1/\" \n",
    "\n",
    "# Variables to specify the API\n",
    "search = \"search?\"\n",
    "paginated_products = \"paginated/items?\"\n",
    "\n",
    "# Base url for search\n",
    "search_url = base_url + search\n",
    "paginated_url = base_url + paginated_products\n",
    "\n"
   ]
  },
  {
   "cell_type": "markdown",
   "metadata": {},
   "source": [
    "# Search API"
   ]
  },
  {
   "cell_type": "code",
   "execution_count": 3,
   "metadata": {},
   "outputs": [
    {
     "name": "stdout",
     "output_type": "stream",
     "text": [
      "http://api.walmartlabs.com/v1/search?apiKey=anrtcd5dheh9758z5wgdy677&format=json&categoryId=3944&query=laptop&numItems=25&facet=on&facet.range=price:[0%20TO%20200]\n"
     ]
    }
   ],
   "source": [
    "# Load search criteria for Walmart Search API.\n",
    "# reference URL: https://developer.walmartlabs.com/docs/read/Search_API\n",
    "\n",
    "format = \"json\"\n",
    "categoryId = \"3944\"\n",
    "query = \"laptop\"\n",
    "numItems = 25 # max 25. 10 is default\n",
    "start = 2\n",
    "sort = \"price\"\n",
    "order = \"desc\"\n",
    "facet = \"on\" # boolean\n",
    "min = str(0) # lower end of range for search within price range\n",
    "max = str(200) # higher end of range price for search with price range\n",
    "facet_range = (f\"price:[{min}%20TO%20{max}]\") # note the format [num1:num2] does not work. Use %20TO%20 for \":\"\n",
    "\n",
    "\n",
    "\n",
    "# NOTE: we are using 2 methods to create urls. Because the params argument does not format the output\n",
    "# in the manner needed to get the API to work.  This is used only for price range lookups\n",
    "\n",
    "# manual url. Used for price range lookup only\n",
    "manual_url = (f\"{search_url}apiKey={api_alt}&format={format}&categoryId={categoryId}&query={query}&numItems={numItems}&facet={facet}&facet.range={facet_range}\")\n",
    "\n",
    "print(manual_url)\n",
    "\n",
    "# API parameters for other lookups\n",
    "params = {\n",
    "    \"apiKey\": api_alt,\n",
    "    #\"start\": start, # note keep turned off.  We can't get this to work yet\n",
    "    \"format\": \"json\", # json|xml\n",
    "    \"categoryId\": categoryId,\n",
    "    \"query\": query,\n",
    "    \"numItems\": numItems,\n",
    "    #\"sort\": sort, #allowed sort types are [relevance, price, title, bestseller, customerRating, new]\n",
    "    #\"order\": order,  #allowed values are [asc, desc]\n",
    "    #\"facet\":facet, # note keep turned off.  We can't get this to work yet\n",
    "    #\"facet.range\":facet_range    # note keep turned off.  We can't get this to work yet\n",
    "}"
   ]
  },
  {
   "cell_type": "code",
   "execution_count": null,
   "metadata": {},
   "outputs": [],
   "source": [
    "# We are going to run through this one time to make sure we are pulling data correctly\n",
    "# There is a limitation of 25 results per search.  \n",
    "# Bellow we will create a loop to pull multiple pages\n",
    "# We will try two methods: price range and paginated results (has a limit of 1000 items)\n",
    "# Remember we are limited to 5000 requests per day\n",
    "\n",
    "walmart_data = requests.get(search_url) # or requests.get(search_url, params=params)\n",
    "walmart_url = walmart_data.url\n",
    "walmart_data = walmart_data.json()\n",
    "print(walmart_url)\n",
    "\n",
    "numItems = walmart_data[\"numItems\"]\n",
    "\n",
    "#create dictionary to store walmart_data\n",
    "result = {}\n",
    "result[\"totalResults\"] = walmart_data[\"totalResults\"]\n",
    "result[\"start\"] = walmart_data[\"start\"]\n",
    "result[\"numItems\"] = walmart_data[\"numItems\"]\n",
    "result[\"items\"] = walmart_data[\"items\"]\n",
    "\n"
   ]
  },
  {
   "cell_type": "code",
   "execution_count": 8,
   "metadata": {},
   "outputs": [],
   "source": [
    "# Loop by pricing parameters to pull out entire data set for a product category\n",
    "# to save time we are going to hard code some numbers then go back later if we have time\n",
    "\n",
    "# Number of items found in our search\n",
    "# there are 20,747 total results for laptop in electronics\n",
    "# step 0 there are 3089 results in the price range $0-$200\n",
    "# step 1 there are 3015 results in the price range $201-$400\n",
    "# step 2 there are 2053 results in the price range $401-$600\n",
    "# step 3 there are 2995 results in the price range $601-$1000\n",
    "# step 4 there are 2021 results in the price range $1001-$1400\n",
    "# step 5 there are 2726 results in the price range $1401-$1800\n",
    "# step 6 there are 1873 results in the price range $1801-$2200\n",
    "# step 7 there are 1011 results in the price range $2201-$2600\n",
    "# step 8 there are 863 results in the price range $2601-3000\n",
    "# step 9 there are 1096 results in the price range above $3000\n",
    "\n",
    "category_total = 20747 #hard coded from broad search\n",
    "step0 = 200*25//3089\n",
    "step1 = 200*25//3015\n",
    "step2 = 200*25//2053\n",
    "step3 = 400*25//2995\n",
    "step4 = 400*25//2021\n",
    "step5 = 400*25//2726\n",
    "step6 = 400*25//1873\n",
    "step7 = 400*25//1011\n",
    "step8 = 400*25//863\n",
    "\n",
    "# create a function to perform the price search\n",
    "\n",
    "def price_data(lowRange, highRange):\n",
    "    facet_range = (f\"price:[{lowRange}%20TO%20{highRange}]\")\n",
    "    price_url = (f\"{search_url}apiKey={api_alt}&format={format}&categoryId={categoryId}&query={query}&numItems={numItems}&facet={facet}&facet.range={facet_range}\")\n",
    "    walmart_data2 = requests.get(price_url)\n",
    "    walmart_data2 = walmart_data2.json()\n",
    "    \n",
    "    try:\n",
    "        with open('Walmart_datasets/walmart_laptops.json', mode='w+') as f:\n",
    "            f.write(json.dumps(walmart_data2, indent=4))\n",
    "    except KeyError:\n",
    "        print (f\"Skipped line {i}\")\n",
    "\n",
    "                \n"
   ]
  },
  {
   "cell_type": "code",
   "execution_count": null,
   "metadata": {},
   "outputs": [],
   "source": [
    "price_data(0,2)"
   ]
  },
  {
   "cell_type": "code",
   "execution_count": 10,
   "metadata": {},
   "outputs": [
    {
     "name": "stdout",
     "output_type": "stream",
     "text": [
      "200\n",
      "220\n",
      "220\n",
      "2\n"
     ]
    }
   ],
   "source": [
    "# Use for loop to go through prices in the steps defined\n",
    "\n",
    "itemCount = 1\n",
    "low = 200\n",
    "high = 300\n",
    "\n",
    "for itemCount in range (1,2):\n",
    "    if high < 2000:\n",
    "        print(low)\n",
    "        high = low + 20\n",
    "        print(high)\n",
    "        price_data(low,high)\n",
    "        low = high\n",
    "        print(low)\n",
    "        itemCount += 1\n",
    "        print(itemCount)\n"
   ]
  },
  {
   "cell_type": "code",
   "execution_count": 16,
   "metadata": {},
   "outputs": [
    {
     "name": "stdout",
     "output_type": "stream",
     "text": [
      "('HP Stream 14\" Jet Black Laptop, Windows 10 Home, Office 365 Personal 1-year '\n",
      " 'included, Intel Celeron N3060 Processor, 4GB RAM, 32GB eMMC Storage')\n"
     ]
    }
   ],
   "source": [
    "from pprint import pprint\n",
    "import os\n",
    "filepath = os.path.join('Walmart_datasets/walmart_laptops.json')\n",
    "with open(filepath) as jsonfile:\n",
    "    json_data = json.load(jsonfile)\n",
    "    pprint (json_data[0]['name'])"
   ]
  },
  {
   "cell_type": "code",
   "execution_count": null,
   "metadata": {},
   "outputs": [],
   "source": []
  }
 ],
 "metadata": {
  "kernelspec": {
   "display_name": "Python 3",
   "language": "python",
   "name": "python3"
  },
  "language_info": {
   "codemirror_mode": {
    "name": "ipython",
    "version": 3
   },
   "file_extension": ".py",
   "mimetype": "text/x-python",
   "name": "python",
   "nbconvert_exporter": "python",
   "pygments_lexer": "ipython3",
   "version": "3.6.5"
  }
 },
 "nbformat": 4,
 "nbformat_minor": 2
}
