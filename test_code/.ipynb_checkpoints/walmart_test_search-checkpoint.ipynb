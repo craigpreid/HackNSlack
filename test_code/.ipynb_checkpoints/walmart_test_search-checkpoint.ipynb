{
 "cells": [
  {
   "cell_type": "code",
   "execution_count": null,
   "metadata": {},
   "outputs": [],
   "source": [
    "import requests\n",
    "import json\n",
    "import csv\n",
    "import pandas as pd\n",
    "import time\n"
   ]
  },
  {
   "cell_type": "code",
   "execution_count": null,
   "metadata": {},
   "outputs": [],
   "source": [
    "for page in range(1, 9):\n",
    "\n",
    "    # create query with page number\n",
    "    query_url = url + str(page) + \"&format=json\"\n",
    "\n",
    "    products = requests.get(query_url).json()\n",
    "    print(query_url)\n",
    "    # Add a one second interval between queries to stay within API query limits\n",
    "    time.sleep(1)\n",
    "    \n",
    "    # loop through the response and append each article to the list\n",
    "    for product in products[\"products\"]:\n",
    "        laptop_list.append(product)"
   ]
  }
 ],
 "metadata": {
  "kernelspec": {
   "display_name": "Python 3",
   "language": "python",
   "name": "python3"
  },
  "language_info": {
   "codemirror_mode": {
    "name": "ipython",
    "version": 3
   },
   "file_extension": ".py",
   "mimetype": "text/x-python",
   "name": "python",
   "nbconvert_exporter": "python",
   "pygments_lexer": "ipython3",
   "version": "3.6.5"
  }
 },
 "nbformat": 4,
 "nbformat_minor": 2
}
