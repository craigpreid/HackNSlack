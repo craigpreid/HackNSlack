{
 "cells": [
  {
   "cell_type": "code",
   "execution_count": 1,
   "metadata": {},
   "outputs": [],
   "source": [
    "# Dependencies and Setup\n",
    "import matplotlib.pyplot as plt\n",
    "import pandas as pd\n",
    "import numpy as np\n",
    "import requests\n",
    "import time\n",
    "import urllib\n",
    "import json\n",
    "import sys\n",
    "import pprint\n",
    "\n",
    "api_key = \"4tsbjxvbrwnpcjdsh277csqu\"\n",
    "url = \"http://api.walmartlabs.com/v1/search\" \n",
    "params = {\n",
    "    \"apiKey\": api_key,\n",
    "    \"format\": \"json\" # json|xml\n",
    "}\n",
    "params[\"query\"] = \"ipad\""
   ]
  },
  {
   "cell_type": "code",
   "execution_count": 2,
   "metadata": {},
   "outputs": [],
   "source": [
    "def walmart_search(q):\n",
    "    params[\"query\"] = q\n",
    "    walmart_data = requests.get(url, params=params)\n",
    "    walmart_url = walmart_data.url\n",
    "    walmart_data = walmart_data.json()\n",
    "    print(walmart_url)\n",
    "    #print(walmart_data)\n",
    "    result = {}\n",
    "    result[\"totalResults\"] = walmart_data[\"totalResults\"]\n",
    "    result[\"start\"] = walmart_data[\"start\"]\n",
    "    result[\"numItems\"] = walmart_data[\"numItems\"]\n",
    "    result[\"items\"] = walmart_data[\"items\"]\n",
    "    return walmart_data\n"
   ]
  },
  {
   "cell_type": "code",
   "execution_count": 9,
   "metadata": {},
   "outputs": [],
   "source": [
    "#print(sys.argv)\n",
    "arglen = len(sys.argv)\n",
    "#print(arglen)\n",
    "if arglen>1:\n",
    "    for i in range(1,arglen):\n",
    "        #print(sys.argv[i])\n",
    "        if \"=\" in sys.argv[i]:\n",
    "            k,v=sys.argv[i].split(\"=\")\n",
    "            if k in params:\n",
    "                params[k] = v\n",
    "            result = walmart_search(params[\"query\"])\n",
    "            print(params)\n",
    "            print(json.dumps(result, indent=4))"
   ]
  },
  {
   "cell_type": "code",
   "execution_count": null,
   "metadata": {},
   "outputs": [],
   "source": []
  }
 ],
 "metadata": {
  "kernelspec": {
   "display_name": "Python 3",
   "language": "python",
   "name": "python3"
  },
  "language_info": {
   "codemirror_mode": {
    "name": "ipython",
    "version": 3
   },
   "file_extension": ".py",
   "mimetype": "text/x-python",
   "name": "python",
   "nbconvert_exporter": "python",
   "pygments_lexer": "ipython3",
   "version": "3.6.5"
  }
 },
 "nbformat": 4,
 "nbformat_minor": 2
}
