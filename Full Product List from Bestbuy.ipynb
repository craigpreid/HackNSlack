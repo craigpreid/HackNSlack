{
 "cells": [
  {
   "cell_type": "code",
   "execution_count": 1,
   "metadata": {},
   "outputs": [],
   "source": [
    "# Dependencies\n",
    "import pandas as pd"
   ]
  },
  {
   "cell_type": "code",
   "execution_count": 4,
   "metadata": {},
   "outputs": [],
   "source": [
    "# Store filepath in a variable\n",
    "file_one = \"Full Product List from Bestbuy.csv\""
   ]
  },
  {
   "cell_type": "code",
   "execution_count": 5,
   "metadata": {},
   "outputs": [],
   "source": [
    "# Read our Data file with the pandas library\n",
    "# Not every CSV requires an encoding, but be aware this can come up\n",
    "file_one_df = pd.read_csv(file_one, encoding=\"ISO-8859-1\")"
   ]
  },
  {
   "cell_type": "code",
   "execution_count": 6,
   "metadata": {},
   "outputs": [
    {
     "data": {
      "text/html": [
       "<div>\n",
       "<style scoped>\n",
       "    .dataframe tbody tr th:only-of-type {\n",
       "        vertical-align: middle;\n",
       "    }\n",
       "\n",
       "    .dataframe tbody tr th {\n",
       "        vertical-align: top;\n",
       "    }\n",
       "\n",
       "    .dataframe thead th {\n",
       "        text-align: right;\n",
       "    }\n",
       "</style>\n",
       "<table border=\"1\" class=\"dataframe\">\n",
       "  <thead>\n",
       "    <tr style=\"text-align: right;\">\n",
       "      <th></th>\n",
       "      <th>upc</th>\n",
       "      <th>customerReviewAverage</th>\n",
       "      <th>customerReviewCount</th>\n",
       "      <th>inStoreAvailability</th>\n",
       "      <th>manufacturer</th>\n",
       "      <th>name</th>\n",
       "      <th>onlineAvailability</th>\n",
       "      <th>regularPrice</th>\n",
       "      <th>salePrice</th>\n",
       "    </tr>\n",
       "  </thead>\n",
       "  <tbody>\n",
       "    <tr>\n",
       "      <th>0</th>\n",
       "      <td>400060096645</td>\n",
       "      <td>4.7</td>\n",
       "      <td>1568.0</td>\n",
       "      <td>True</td>\n",
       "      <td>Apple</td>\n",
       "      <td>Apple - iPhone X 256GB - Space Gray (AT&amp;T)</td>\n",
       "      <td>True</td>\n",
       "      <td>1199.99</td>\n",
       "      <td>1199.99</td>\n",
       "    </tr>\n",
       "    <tr>\n",
       "      <th>1</th>\n",
       "      <td>400060096713</td>\n",
       "      <td>4.7</td>\n",
       "      <td>1568.0</td>\n",
       "      <td>True</td>\n",
       "      <td>Apple</td>\n",
       "      <td>Apple - iPhone X 256GB - Silver (AT&amp;T)</td>\n",
       "      <td>True</td>\n",
       "      <td>1199.99</td>\n",
       "      <td>1199.99</td>\n",
       "    </tr>\n",
       "    <tr>\n",
       "      <th>2</th>\n",
       "      <td>400060097734</td>\n",
       "      <td>4.8</td>\n",
       "      <td>741.0</td>\n",
       "      <td>True</td>\n",
       "      <td>Apple</td>\n",
       "      <td>Apple - iPhone X 256GB - Space Gray (Sprint)</td>\n",
       "      <td>False</td>\n",
       "      <td>1199.99</td>\n",
       "      <td>1199.99</td>\n",
       "    </tr>\n",
       "    <tr>\n",
       "      <th>3</th>\n",
       "      <td>400060097796</td>\n",
       "      <td>4.8</td>\n",
       "      <td>741.0</td>\n",
       "      <td>True</td>\n",
       "      <td>Apple</td>\n",
       "      <td>Apple - iPhone X 256GB - Silver (Sprint)</td>\n",
       "      <td>False</td>\n",
       "      <td>1199.99</td>\n",
       "      <td>1199.99</td>\n",
       "    </tr>\n",
       "    <tr>\n",
       "      <th>4</th>\n",
       "      <td>400060098878</td>\n",
       "      <td>4.8</td>\n",
       "      <td>1233.0</td>\n",
       "      <td>True</td>\n",
       "      <td>Apple</td>\n",
       "      <td>Apple - iPhone X 256GB - Space Gray (Verizon)</td>\n",
       "      <td>True</td>\n",
       "      <td>1199.99</td>\n",
       "      <td>1199.99</td>\n",
       "    </tr>\n",
       "  </tbody>\n",
       "</table>\n",
       "</div>"
      ],
      "text/plain": [
       "            upc  customerReviewAverage  customerReviewCount  \\\n",
       "0  400060096645                    4.7               1568.0   \n",
       "1  400060096713                    4.7               1568.0   \n",
       "2  400060097734                    4.8                741.0   \n",
       "3  400060097796                    4.8                741.0   \n",
       "4  400060098878                    4.8               1233.0   \n",
       "\n",
       "   inStoreAvailability manufacturer  \\\n",
       "0                 True        Apple   \n",
       "1                 True        Apple   \n",
       "2                 True        Apple   \n",
       "3                 True        Apple   \n",
       "4                 True        Apple   \n",
       "\n",
       "                                            name  onlineAvailability  \\\n",
       "0     Apple - iPhone X 256GB - Space Gray (AT&T)                True   \n",
       "1         Apple - iPhone X 256GB - Silver (AT&T)                True   \n",
       "2   Apple - iPhone X 256GB - Space Gray (Sprint)               False   \n",
       "3       Apple - iPhone X 256GB - Silver (Sprint)               False   \n",
       "4  Apple - iPhone X 256GB - Space Gray (Verizon)                True   \n",
       "\n",
       "   regularPrice  salePrice  \n",
       "0       1199.99    1199.99  \n",
       "1       1199.99    1199.99  \n",
       "2       1199.99    1199.99  \n",
       "3       1199.99    1199.99  \n",
       "4       1199.99    1199.99  "
      ]
     },
     "execution_count": 6,
     "metadata": {},
     "output_type": "execute_result"
    }
   ],
   "source": [
    "file_one_df.head()"
   ]
  },
  {
   "cell_type": "code",
   "execution_count": null,
   "metadata": {},
   "outputs": [],
   "source": []
  }
 ],
 "metadata": {
  "kernelspec": {
   "display_name": "Python 3",
   "language": "python",
   "name": "python3"
  },
  "language_info": {
   "codemirror_mode": {
    "name": "ipython",
    "version": 3
   },
   "file_extension": ".py",
   "mimetype": "text/x-python",
   "name": "python",
   "nbconvert_exporter": "python",
   "pygments_lexer": "ipython3",
   "version": "3.6.5"
  }
 },
 "nbformat": 4,
 "nbformat_minor": 2
}
